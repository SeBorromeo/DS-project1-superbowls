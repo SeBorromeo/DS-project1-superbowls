{
 "cells": [
  {
   "cell_type": "markdown",
   "id": "931e39e1-a60a-45a3-ac0d-abafb3e1d962",
   "metadata": {},
   "source": [
    "## SETUP"
   ]
  },
  {
   "cell_type": "markdown",
   "id": "d83a9c7b-db59-4d77-8be7-7e89c2b7a134",
   "metadata": {},
   "source": [
    "#### Import Libraries"
   ]
  },
  {
   "cell_type": "code",
   "execution_count": 1,
   "id": "ae4c205e-fc86-4727-aab5-54a7c880bfa5",
   "metadata": {},
   "outputs": [],
   "source": [
    "#!pip install sqlalchemy\n",
    "import os\n",
    "import numpy\n",
    "import pymysql\n",
    "import pandas as pd\n",
    "from sqlalchemy import create_engine, text"
   ]
  },
  {
   "cell_type": "code",
   "execution_count": 2,
   "id": "d3dd79cd-ab75-4848-ab77-d3e760aef77d",
   "metadata": {},
   "outputs": [],
   "source": [
    "import time\n",
    "\n",
    "import requests\n",
    "import requests.exceptions"
   ]
  },
  {
   "cell_type": "code",
   "execution_count": 3,
   "id": "6bb192db-4228-4f76-9270-d94eff11d9d5",
   "metadata": {},
   "outputs": [],
   "source": [
    "host_name = \"localhost\"\n",
    "port = \"3306\"\n",
    "user_id = \"root\"\n",
    "pwd = \"Uva!1819\"\n",
    "\n",
    "src_dbname = \"nfl\"\n",
    "dst_dbname = \"nfl_dw\""
   ]
  },
  {
   "cell_type": "markdown",
   "id": "c0aa4a72-87bb-41fc-8571-f7ffa440be69",
   "metadata": {},
   "source": [
    "#### Define Functions for Getting Data From and Setting Data Into Databases (Reused from Lab03)"
   ]
  },
  {
   "cell_type": "code",
   "execution_count": 4,
   "id": "a703ea21-832f-47fb-a82d-34bd51ea23e4",
   "metadata": {},
   "outputs": [],
   "source": [
    "def get_dataframe(user_id, pwd, host_name, db_name, sql_query):\n",
    "    conn_str = f\"mysql+pymysql://{user_id}:{pwd}@{host_name}/{db_name}\"\n",
    "    sqlEngine = create_engine(conn_str, pool_recycle=3600)\n",
    "    connection = sqlEngine.connect()\n",
    "    dframe = pd.read_sql(sql_query, connection);\n",
    "    connection.close()\n",
    "    \n",
    "    return dframe\n",
    "\n",
    "\n",
    "def set_dataframe(user_id, pwd, host_name, db_name, df, table_name, pk_column, db_operation):\n",
    "    conn_str = f\"mysql+pymysql://{user_id}:{pwd}@{host_name}/{db_name}\"\n",
    "    sqlEngine = create_engine(conn_str, pool_recycle=3600)\n",
    "    connection = sqlEngine.connect()\n",
    "    \n",
    "    if db_operation == \"insert\":\n",
    "        df.to_sql(table_name, con=connection, index=False, if_exists='replace')\n",
    "        connection.execute(text(f\"ALTER TABLE {table_name} ADD PRIMARY KEY ({pk_column});\"))\n",
    "            \n",
    "    elif db_operation == \"update\":\n",
    "        df.to_sql(table_name, con=connection, index=False, if_exists='append')\n",
    "    \n",
    "    connection.close()"
   ]
  },
  {
   "cell_type": "markdown",
   "id": "13e6a94e-dc5e-433b-aa99-abe5fa0b21b6",
   "metadata": {},
   "source": [
    "#### Define API Request Function with Error Handling"
   ]
  },
  {
   "cell_type": "code",
   "execution_count": 5,
   "id": "839eb7eb-0f0a-4ea3-944e-10eef4a7b5e0",
   "metadata": {},
   "outputs": [],
   "source": [
    "def get_api_response(url, params):\n",
    "    try:\n",
    "        response = requests.request(\"GET\", url, params=params)\n",
    "        response.raise_for_status()\n",
    "\n",
    "    except requests.exceptions.HTTPError as errh:\n",
    "        return \"An Http Error occurred: \" + repr(errh)\n",
    "    except requests.exceptions.ConnectionError as errc:\n",
    "        return \"An Error Connecting to the API occurred: \" + repr(errc)\n",
    "    except requests.exceptions.Timeout as errt:\n",
    "        return \"A Timeout Error occurred: \" + repr(errt)\n",
    "    except requests.exceptions.RequestException as err:\n",
    "        return \"An Unknown Error occurred: \" + repr(err)\n",
    "\n",
    "    return response.json()"
   ]
  },
  {
   "cell_type": "markdown",
   "id": "ca592f6a-e79d-46dc-ae87-19b4ed071172",
   "metadata": {},
   "source": [
    "#### Creating Superbowls Data Warehouse "
   ]
  },
  {
   "cell_type": "code",
   "execution_count": 6,
   "id": "27a51f45-901c-4872-a2a6-05bd005ac829",
   "metadata": {},
   "outputs": [
    {
     "data": {
      "text/plain": [
       "<sqlalchemy.engine.cursor.CursorResult at 0x288e14c6be0>"
      ]
     },
     "execution_count": 6,
     "metadata": {},
     "output_type": "execute_result"
    }
   ],
   "source": [
    "conn_str = f\"mysql+pymysql://{user_id}:{pwd}@{host_name}\"\n",
    "sqlEngine = create_engine(conn_str, pool_recycle=3600)\n",
    "conn = sqlEngine.connect()\n",
    "\n",
    "conn.execute(text(f\"DROP DATABASE IF EXISTS `{dst_dbname}`;\"))\n",
    "conn.execute(text(f\"CREATE DATABASE `{dst_dbname}`;\"))\n",
    "conn.execute(text(f\"USE {dst_dbname};\"))\n",
    "\n",
    "# Run date dim SQL script after this"
   ]
  },
  {
   "cell_type": "markdown",
   "id": "0152f20b-e1e6-418d-821d-19e60c8294fd",
   "metadata": {},
   "source": [
    "## CREATING DIMENSION TABLES"
   ]
  },
  {
   "cell_type": "markdown",
   "id": "f8fb6862-8fe8-4604-8355-819a266eec73",
   "metadata": {},
   "source": [
    "#### Players table"
   ]
  },
  {
   "cell_type": "code",
   "execution_count": 7,
   "id": "d785b5cc-1f5f-4c99-bc42-32caff24b03f",
   "metadata": {},
   "outputs": [
    {
     "data": {
      "text/html": [
       "<div>\n",
       "<style scoped>\n",
       "    .dataframe tbody tr th:only-of-type {\n",
       "        vertical-align: middle;\n",
       "    }\n",
       "\n",
       "    .dataframe tbody tr th {\n",
       "        vertical-align: top;\n",
       "    }\n",
       "\n",
       "    .dataframe thead th {\n",
       "        text-align: right;\n",
       "    }\n",
       "</style>\n",
       "<table border=\"1\" class=\"dataframe\">\n",
       "  <thead>\n",
       "    <tr style=\"text-align: right;\">\n",
       "      <th></th>\n",
       "      <th>player_key</th>\n",
       "      <th>player_name</th>\n",
       "    </tr>\n",
       "  </thead>\n",
       "  <tbody>\n",
       "    <tr>\n",
       "      <th>0</th>\n",
       "      <td>0</td>\n",
       "      <td>Patrick Mahomes</td>\n",
       "    </tr>\n",
       "    <tr>\n",
       "      <th>1</th>\n",
       "      <td>1</td>\n",
       "      <td>Cooper Kupp</td>\n",
       "    </tr>\n",
       "    <tr>\n",
       "      <th>2</th>\n",
       "      <td>2</td>\n",
       "      <td>Tom Brady</td>\n",
       "    </tr>\n",
       "    <tr>\n",
       "      <th>3</th>\n",
       "      <td>3</td>\n",
       "      <td>Julian Edelman</td>\n",
       "    </tr>\n",
       "    <tr>\n",
       "      <th>4</th>\n",
       "      <td>4</td>\n",
       "      <td>Nick Foles</td>\n",
       "    </tr>\n",
       "  </tbody>\n",
       "</table>\n",
       "</div>"
      ],
      "text/plain": [
       "   player_key      player_name\n",
       "0           0  Patrick Mahomes\n",
       "1           1      Cooper Kupp\n",
       "2           2        Tom Brady\n",
       "3           3   Julian Edelman\n",
       "4           4       Nick Foles"
      ]
     },
     "execution_count": 7,
     "metadata": {},
     "output_type": "execute_result"
    }
   ],
   "source": [
    "sql_mvps = \"SELECT DISTINCT mvp FROM nfl.superbowls;\"\n",
    "df_players = get_dataframe(user_id, pwd, host_name, src_dbname, text(sql_mvps))\n",
    "df_players.rename(columns={\"mvp\":\"player_name\"}, inplace=True)\n",
    "df_players.insert(0, 'player_key', numpy.arange(df_players.shape[0]))\n",
    "\n",
    "df_players.head(5)"
   ]
  },
  {
   "cell_type": "markdown",
   "id": "5db63c89-0574-46df-9357-f5287e622862",
   "metadata": {},
   "source": [
    "#### Reading NFL Teams Data from CSV"
   ]
  },
  {
   "cell_type": "code",
   "execution_count": 8,
   "id": "92e076ba-e16a-48fa-a1a6-df9e65c48928",
   "metadata": {},
   "outputs": [
    {
     "data": {
      "text/html": [
       "<div>\n",
       "<style scoped>\n",
       "    .dataframe tbody tr th:only-of-type {\n",
       "        vertical-align: middle;\n",
       "    }\n",
       "\n",
       "    .dataframe tbody tr th {\n",
       "        vertical-align: top;\n",
       "    }\n",
       "\n",
       "    .dataframe thead th {\n",
       "        text-align: right;\n",
       "    }\n",
       "</style>\n",
       "<table border=\"1\" class=\"dataframe\">\n",
       "  <thead>\n",
       "    <tr style=\"text-align: right;\">\n",
       "      <th></th>\n",
       "      <th>Team</th>\n",
       "      <th>Stadium</th>\n",
       "      <th>Location</th>\n",
       "      <th>Capacity</th>\n",
       "      <th>Founded</th>\n",
       "    </tr>\n",
       "  </thead>\n",
       "  <tbody>\n",
       "    <tr>\n",
       "      <th>0</th>\n",
       "      <td>Arizona Cardinals</td>\n",
       "      <td>State Farm Stadium</td>\n",
       "      <td>Glendale</td>\n",
       "      <td>63400</td>\n",
       "      <td>1898</td>\n",
       "    </tr>\n",
       "    <tr>\n",
       "      <th>1</th>\n",
       "      <td>Atlanta Falcons</td>\n",
       "      <td>Mercedes-Benz Stadium</td>\n",
       "      <td>Atlanta</td>\n",
       "      <td>71000</td>\n",
       "      <td>1966</td>\n",
       "    </tr>\n",
       "  </tbody>\n",
       "</table>\n",
       "</div>"
      ],
      "text/plain": [
       "                Team                Stadium  Location  Capacity  Founded\n",
       "0  Arizona Cardinals     State Farm Stadium  Glendale     63400     1898\n",
       "1    Atlanta Falcons  Mercedes-Benz Stadium   Atlanta     71000     1966"
      ]
     },
     "execution_count": 8,
     "metadata": {},
     "output_type": "execute_result"
    }
   ],
   "source": [
    "df_teams = pd.read_csv(\"nfl_teams.csv\")\n",
    "\n",
    "df_teams.head(2)"
   ]
  },
  {
   "cell_type": "markdown",
   "id": "70163e14-0130-4909-b785-ddda26a7a282",
   "metadata": {},
   "source": [
    "#### Stadium Table"
   ]
  },
  {
   "cell_type": "markdown",
   "id": "450d44bf-7ccf-4b7d-ae6c-f311254de231",
   "metadata": {},
   "source": [
    "Stadiums That Have Hosted a Superbowl"
   ]
  },
  {
   "cell_type": "code",
   "execution_count": 9,
   "id": "e38b1ae9-7a87-4b95-9195-78e964558ae5",
   "metadata": {},
   "outputs": [
    {
     "data": {
      "text/html": [
       "<div>\n",
       "<style scoped>\n",
       "    .dataframe tbody tr th:only-of-type {\n",
       "        vertical-align: middle;\n",
       "    }\n",
       "\n",
       "    .dataframe tbody tr th {\n",
       "        vertical-align: top;\n",
       "    }\n",
       "\n",
       "    .dataframe thead th {\n",
       "        text-align: right;\n",
       "    }\n",
       "</style>\n",
       "<table border=\"1\" class=\"dataframe\">\n",
       "  <thead>\n",
       "    <tr style=\"text-align: right;\">\n",
       "      <th></th>\n",
       "      <th>stadium_name</th>\n",
       "      <th>city</th>\n",
       "    </tr>\n",
       "  </thead>\n",
       "  <tbody>\n",
       "    <tr>\n",
       "      <th>0</th>\n",
       "      <td>State Farm Stadium</td>\n",
       "      <td>Glendale</td>\n",
       "    </tr>\n",
       "    <tr>\n",
       "      <th>1</th>\n",
       "      <td>SoFi Stadium</td>\n",
       "      <td>Inglewood</td>\n",
       "    </tr>\n",
       "  </tbody>\n",
       "</table>\n",
       "</div>"
      ],
      "text/plain": [
       "         stadium_name       city\n",
       "0  State Farm Stadium   Glendale\n",
       "1        SoFi Stadium  Inglewood"
      ]
     },
     "execution_count": 9,
     "metadata": {},
     "output_type": "execute_result"
    }
   ],
   "source": [
    "sql_sb_stadiums = \"SELECT DISTINCT stadium, city FROM nfl.superbowls;\"\n",
    "df_stadiums = get_dataframe(user_id, pwd, host_name, src_dbname, text(sql_sb_stadiums))\n",
    "df_stadiums.rename(columns={\"stadium\":\"stadium_name\"}, inplace=True)\n",
    "\n",
    "df_stadiums.head(2)"
   ]
  },
  {
   "cell_type": "markdown",
   "id": "dd3f0a77-f0e0-47c7-9434-b3f61bb74fa6",
   "metadata": {},
   "source": [
    "Stadiums Currently Used"
   ]
  },
  {
   "cell_type": "code",
   "execution_count": 10,
   "id": "ba953d96-c27d-44c2-9d0b-6a3b3c25682f",
   "metadata": {},
   "outputs": [
    {
     "data": {
      "text/html": [
       "<div>\n",
       "<style scoped>\n",
       "    .dataframe tbody tr th:only-of-type {\n",
       "        vertical-align: middle;\n",
       "    }\n",
       "\n",
       "    .dataframe tbody tr th {\n",
       "        vertical-align: top;\n",
       "    }\n",
       "\n",
       "    .dataframe thead th {\n",
       "        text-align: right;\n",
       "    }\n",
       "</style>\n",
       "<table border=\"1\" class=\"dataframe\">\n",
       "  <thead>\n",
       "    <tr style=\"text-align: right;\">\n",
       "      <th></th>\n",
       "      <th>stadium_name</th>\n",
       "      <th>city</th>\n",
       "    </tr>\n",
       "  </thead>\n",
       "  <tbody>\n",
       "    <tr>\n",
       "      <th>0</th>\n",
       "      <td>State Farm Stadium</td>\n",
       "      <td>Glendale</td>\n",
       "    </tr>\n",
       "    <tr>\n",
       "      <th>1</th>\n",
       "      <td>Mercedes-Benz Stadium</td>\n",
       "      <td>Atlanta</td>\n",
       "    </tr>\n",
       "  </tbody>\n",
       "</table>\n",
       "</div>"
      ],
      "text/plain": [
       "            stadium_name      city\n",
       "0     State Farm Stadium  Glendale\n",
       "1  Mercedes-Benz Stadium   Atlanta"
      ]
     },
     "execution_count": 10,
     "metadata": {},
     "output_type": "execute_result"
    }
   ],
   "source": [
    "df_current_stadiums = df_teams.copy()[['Stadium', 'Location']].drop_duplicates()\n",
    "df_current_stadiums.rename(columns={\"Stadium\":\"stadium_name\", \"Location\":\"city\"}, inplace=True)\n",
    "\n",
    "df_current_stadiums.head(2)"
   ]
  },
  {
   "cell_type": "markdown",
   "id": "7dc6d60e-d460-47a0-90d6-c778b7f856a8",
   "metadata": {},
   "source": [
    "Combining"
   ]
  },
  {
   "cell_type": "code",
   "execution_count": 11,
   "id": "1e2884d6-cbc7-4a9b-9fd5-33db5b03f6da",
   "metadata": {},
   "outputs": [
    {
     "data": {
      "text/html": [
       "<div>\n",
       "<style scoped>\n",
       "    .dataframe tbody tr th:only-of-type {\n",
       "        vertical-align: middle;\n",
       "    }\n",
       "\n",
       "    .dataframe tbody tr th {\n",
       "        vertical-align: top;\n",
       "    }\n",
       "\n",
       "    .dataframe thead th {\n",
       "        text-align: right;\n",
       "    }\n",
       "</style>\n",
       "<table border=\"1\" class=\"dataframe\">\n",
       "  <thead>\n",
       "    <tr style=\"text-align: right;\">\n",
       "      <th></th>\n",
       "      <th>stadium_key</th>\n",
       "      <th>stadium_name</th>\n",
       "      <th>city</th>\n",
       "    </tr>\n",
       "  </thead>\n",
       "  <tbody>\n",
       "    <tr>\n",
       "      <th>0</th>\n",
       "      <td>0</td>\n",
       "      <td>State Farm Stadium</td>\n",
       "      <td>Glendale</td>\n",
       "    </tr>\n",
       "    <tr>\n",
       "      <th>1</th>\n",
       "      <td>1</td>\n",
       "      <td>SoFi Stadium</td>\n",
       "      <td>Inglewood</td>\n",
       "    </tr>\n",
       "  </tbody>\n",
       "</table>\n",
       "</div>"
      ],
      "text/plain": [
       "   stadium_key        stadium_name       city\n",
       "0            0  State Farm Stadium   Glendale\n",
       "1            1        SoFi Stadium  Inglewood"
      ]
     },
     "execution_count": 11,
     "metadata": {},
     "output_type": "execute_result"
    }
   ],
   "source": [
    "df_stadiums = pd.merge(df_stadiums, df_current_stadiums, on = [\"stadium_name\", \"city\"], how = \"outer\")\n",
    "df_stadiums.insert(0, 'stadium_key', numpy.arange(df_stadiums.shape[0]))\n",
    "\n",
    "df_stadiums.head(2)"
   ]
  },
  {
   "cell_type": "markdown",
   "id": "3780df68-8743-44c4-b39c-01f75aa63a5a",
   "metadata": {},
   "source": [
    "##### Geocoding API"
   ]
  },
  {
   "cell_type": "code",
   "execution_count": 12,
   "id": "276063e3-0410-462d-8f43-b00a2910f640",
   "metadata": {},
   "outputs": [],
   "source": [
    "latlon_list = []\n",
    "\n",
    "url = \"https://geocode.maps.co/search?q=\"\n",
    "\n",
    "for index, row in df_stadiums.iterrows():\n",
    "    stadium_name = row[1]\n",
    "    stadium_city = row[2]\n",
    "    time.sleep(1)\n",
    "    # json = get_api_response(f\"{url}{stadium_name}, {stadium_city}\", \"\")\n",
    "    json = get_api_response(f\"{url}{stadium_city}\", \"\")\n",
    "    lat = json[0]['lat']\n",
    "    lon = json[0]['lon']\n",
    "    latlon_list.append({\"latitude\": lat, \"longitude\": lon})"
   ]
  },
  {
   "cell_type": "code",
   "execution_count": 13,
   "id": "d65ed5fc-bad6-4fbc-a3d8-0e1727b5e7d4",
   "metadata": {},
   "outputs": [
    {
     "data": {
      "text/html": [
       "<div>\n",
       "<style scoped>\n",
       "    .dataframe tbody tr th:only-of-type {\n",
       "        vertical-align: middle;\n",
       "    }\n",
       "\n",
       "    .dataframe tbody tr th {\n",
       "        vertical-align: top;\n",
       "    }\n",
       "\n",
       "    .dataframe thead th {\n",
       "        text-align: right;\n",
       "    }\n",
       "</style>\n",
       "<table border=\"1\" class=\"dataframe\">\n",
       "  <thead>\n",
       "    <tr style=\"text-align: right;\">\n",
       "      <th></th>\n",
       "      <th>latitude</th>\n",
       "      <th>longitude</th>\n",
       "    </tr>\n",
       "  </thead>\n",
       "  <tbody>\n",
       "    <tr>\n",
       "      <th>0</th>\n",
       "      <td>34.1469416</td>\n",
       "      <td>-118.2478471</td>\n",
       "    </tr>\n",
       "    <tr>\n",
       "      <th>1</th>\n",
       "      <td>33.9562003</td>\n",
       "      <td>-118.353132</td>\n",
       "    </tr>\n",
       "  </tbody>\n",
       "</table>\n",
       "</div>"
      ],
      "text/plain": [
       "     latitude     longitude\n",
       "0  34.1469416  -118.2478471\n",
       "1  33.9562003   -118.353132"
      ]
     },
     "execution_count": 13,
     "metadata": {},
     "output_type": "execute_result"
    }
   ],
   "source": [
    "df_latlon = pd.DataFrame(latlon_list)\n",
    "df_latlon.head(2)"
   ]
  },
  {
   "cell_type": "code",
   "execution_count": 14,
   "id": "885559fc-41c0-4657-a6c5-44f29da922b5",
   "metadata": {},
   "outputs": [
    {
     "data": {
      "text/html": [
       "<div>\n",
       "<style scoped>\n",
       "    .dataframe tbody tr th:only-of-type {\n",
       "        vertical-align: middle;\n",
       "    }\n",
       "\n",
       "    .dataframe tbody tr th {\n",
       "        vertical-align: top;\n",
       "    }\n",
       "\n",
       "    .dataframe thead th {\n",
       "        text-align: right;\n",
       "    }\n",
       "</style>\n",
       "<table border=\"1\" class=\"dataframe\">\n",
       "  <thead>\n",
       "    <tr style=\"text-align: right;\">\n",
       "      <th></th>\n",
       "      <th>stadium_key</th>\n",
       "      <th>stadium_name</th>\n",
       "      <th>city</th>\n",
       "      <th>latitude</th>\n",
       "      <th>longitude</th>\n",
       "    </tr>\n",
       "  </thead>\n",
       "  <tbody>\n",
       "    <tr>\n",
       "      <th>0</th>\n",
       "      <td>0</td>\n",
       "      <td>State Farm Stadium</td>\n",
       "      <td>Glendale</td>\n",
       "      <td>34.1469416</td>\n",
       "      <td>-118.2478471</td>\n",
       "    </tr>\n",
       "    <tr>\n",
       "      <th>1</th>\n",
       "      <td>1</td>\n",
       "      <td>SoFi Stadium</td>\n",
       "      <td>Inglewood</td>\n",
       "      <td>33.9562003</td>\n",
       "      <td>-118.353132</td>\n",
       "    </tr>\n",
       "  </tbody>\n",
       "</table>\n",
       "</div>"
      ],
      "text/plain": [
       "   stadium_key        stadium_name       city    latitude     longitude\n",
       "0            0  State Farm Stadium   Glendale  34.1469416  -118.2478471\n",
       "1            1        SoFi Stadium  Inglewood  33.9562003   -118.353132"
      ]
     },
     "execution_count": 14,
     "metadata": {},
     "output_type": "execute_result"
    }
   ],
   "source": [
    "df_stadiums = df_stadiums.join(df_latlon)\n",
    "df_stadiums.head(2)"
   ]
  },
  {
   "cell_type": "markdown",
   "id": "c3ae5fc8-82e1-4f0b-bb6a-4d79021d94da",
   "metadata": {},
   "source": [
    "#### Team Table"
   ]
  },
  {
   "cell_type": "code",
   "execution_count": 15,
   "id": "bee3484b-029b-4233-a332-8ba00157a917",
   "metadata": {},
   "outputs": [
    {
     "data": {
      "text/html": [
       "<div>\n",
       "<style scoped>\n",
       "    .dataframe tbody tr th:only-of-type {\n",
       "        vertical-align: middle;\n",
       "    }\n",
       "\n",
       "    .dataframe tbody tr th {\n",
       "        vertical-align: top;\n",
       "    }\n",
       "\n",
       "    .dataframe thead th {\n",
       "        text-align: right;\n",
       "    }\n",
       "</style>\n",
       "<table border=\"1\" class=\"dataframe\">\n",
       "  <thead>\n",
       "    <tr style=\"text-align: right;\">\n",
       "      <th></th>\n",
       "      <th>team_key</th>\n",
       "      <th>team_name</th>\n",
       "      <th>year_founded</th>\n",
       "      <th>stadium_key</th>\n",
       "    </tr>\n",
       "  </thead>\n",
       "  <tbody>\n",
       "    <tr>\n",
       "      <th>0</th>\n",
       "      <td>0</td>\n",
       "      <td>Arizona Cardinals</td>\n",
       "      <td>1898</td>\n",
       "      <td>0</td>\n",
       "    </tr>\n",
       "    <tr>\n",
       "      <th>1</th>\n",
       "      <td>1</td>\n",
       "      <td>Atlanta Falcons</td>\n",
       "      <td>1966</td>\n",
       "      <td>4</td>\n",
       "    </tr>\n",
       "  </tbody>\n",
       "</table>\n",
       "</div>"
      ],
      "text/plain": [
       "   team_key          team_name  year_founded  stadium_key\n",
       "0         0  Arizona Cardinals          1898            0\n",
       "1         1    Atlanta Falcons          1966            4"
      ]
     },
     "execution_count": 15,
     "metadata": {},
     "output_type": "execute_result"
    }
   ],
   "source": [
    "df_teams.insert(0, 'team_key', numpy.arange(df_teams.shape[0]))\n",
    "df_teams.rename(columns={\"Team\":\"team_name\", \"Founded\":\"year_founded\"}, inplace=True)\n",
    "\n",
    "df_stadiums_lookup = df_stadiums[['stadium_key', 'stadium_name']]\n",
    "df_teams = pd.merge(df_teams, df_stadiums_lookup, left_on = \"Stadium\", right_on = \"stadium_name\", how = \"left\")\n",
    "\n",
    "drop_cols = ['Capacity', 'Location', 'Stadium', 'stadium_name']\n",
    "df_teams.drop(drop_cols, axis=1, inplace=True)\n",
    "\n",
    "df_teams.head(2)"
   ]
  },
  {
   "cell_type": "markdown",
   "id": "4da7f4ea-40e4-44e3-af40-9acba61ab7a7",
   "metadata": {},
   "source": [
    "#### Load into Data Warehouse"
   ]
  },
  {
   "cell_type": "code",
   "execution_count": 16,
   "id": "d7d23f66-8563-45c5-8b0f-f84c1f0ad463",
   "metadata": {},
   "outputs": [],
   "source": [
    "db_operation = \"insert\"\n",
    "\n",
    "tables = [('dim_players', df_players, 'player_key'),\n",
    "         ('dim_stadiums', df_stadiums, 'stadium_key'),\n",
    "         ('dim_teams', df_teams, 'team_key')]"
   ]
  },
  {
   "cell_type": "code",
   "execution_count": 17,
   "id": "dfc6fbb5-5cbe-4f13-ba27-2e3ffe7dddc5",
   "metadata": {},
   "outputs": [],
   "source": [
    "for table_name, dataframe, primary_key in tables:\n",
    "    set_dataframe(user_id, pwd, host_name, dst_dbname, dataframe, table_name, primary_key, db_operation)"
   ]
  },
  {
   "cell_type": "markdown",
   "id": "22821e79-065f-478a-ab22-c5746f22646b",
   "metadata": {},
   "source": [
    "## CREATING FACT TABLE"
   ]
  },
  {
   "cell_type": "markdown",
   "id": "eff6be85-1657-492c-800b-7bd647ae0be4",
   "metadata": {},
   "source": [
    "#### Creating Dataframe from Superbowls Table"
   ]
  },
  {
   "cell_type": "code",
   "execution_count": 18,
   "id": "8061af07-7846-472f-a2e0-3539c478eb16",
   "metadata": {},
   "outputs": [
    {
     "data": {
      "text/html": [
       "<div>\n",
       "<style scoped>\n",
       "    .dataframe tbody tr th:only-of-type {\n",
       "        vertical-align: middle;\n",
       "    }\n",
       "\n",
       "    .dataframe tbody tr th {\n",
       "        vertical-align: top;\n",
       "    }\n",
       "\n",
       "    .dataframe thead th {\n",
       "        text-align: right;\n",
       "    }\n",
       "</style>\n",
       "<table border=\"1\" class=\"dataframe\">\n",
       "  <thead>\n",
       "    <tr style=\"text-align: right;\">\n",
       "      <th></th>\n",
       "      <th>game_date</th>\n",
       "      <th>superbowl_title</th>\n",
       "      <th>winner</th>\n",
       "      <th>winner_points</th>\n",
       "      <th>loser</th>\n",
       "      <th>loser_points</th>\n",
       "      <th>mvp</th>\n",
       "      <th>stadium</th>\n",
       "      <th>city</th>\n",
       "      <th>state</th>\n",
       "    </tr>\n",
       "  </thead>\n",
       "  <tbody>\n",
       "    <tr>\n",
       "      <th>0</th>\n",
       "      <td>2023-02-12</td>\n",
       "      <td>LVII (57)</td>\n",
       "      <td>Kansas City Chiefs</td>\n",
       "      <td>38</td>\n",
       "      <td>Philadelphia Eagles</td>\n",
       "      <td>35</td>\n",
       "      <td>Patrick Mahomes</td>\n",
       "      <td>State Farm Stadium</td>\n",
       "      <td>Glendale</td>\n",
       "      <td>Arizona</td>\n",
       "    </tr>\n",
       "    <tr>\n",
       "      <th>1</th>\n",
       "      <td>2022-02-13</td>\n",
       "      <td>LVI (56)</td>\n",
       "      <td>Los Angeles Rams</td>\n",
       "      <td>23</td>\n",
       "      <td>Cincinnati Bengals</td>\n",
       "      <td>20</td>\n",
       "      <td>Cooper Kupp</td>\n",
       "      <td>SoFi Stadium</td>\n",
       "      <td>Inglewood</td>\n",
       "      <td>California</td>\n",
       "    </tr>\n",
       "  </tbody>\n",
       "</table>\n",
       "</div>"
      ],
      "text/plain": [
       "    game_date superbowl_title              winner  winner_points  \\\n",
       "0  2023-02-12       LVII (57)  Kansas City Chiefs             38   \n",
       "1  2022-02-13        LVI (56)    Los Angeles Rams             23   \n",
       "\n",
       "                 loser  loser_points              mvp             stadium  \\\n",
       "0  Philadelphia Eagles            35  Patrick Mahomes  State Farm Stadium   \n",
       "1   Cincinnati Bengals            20      Cooper Kupp        SoFi Stadium   \n",
       "\n",
       "        city        state  \n",
       "0   Glendale      Arizona  \n",
       "1  Inglewood   California  "
      ]
     },
     "execution_count": 18,
     "metadata": {},
     "output_type": "execute_result"
    }
   ],
   "source": [
    "sql_superbowls = \"SELECT * FROM nfl.superbowls;\"\n",
    "df_superbowls = get_dataframe(user_id, pwd, host_name, src_dbname, text(sql_superbowls))\n",
    "df_superbowls.head(2)"
   ]
  },
  {
   "cell_type": "markdown",
   "id": "f29dc5db-b0c0-4b2c-81ef-857752e2dc13",
   "metadata": {},
   "source": [
    "## Cleaning Data"
   ]
  },
  {
   "cell_type": "markdown",
   "id": "b0317ac9-88e1-476f-84b6-aba38d7d4a58",
   "metadata": {},
   "source": [
    "### Replacing Old Team Names"
   ]
  },
  {
   "cell_type": "code",
   "execution_count": 19,
   "id": "eb08c4ba-6e58-4583-8654-2d413fe4d03e",
   "metadata": {},
   "outputs": [
    {
     "data": {
      "text/html": [
       "<div>\n",
       "<style scoped>\n",
       "    .dataframe tbody tr th:only-of-type {\n",
       "        vertical-align: middle;\n",
       "    }\n",
       "\n",
       "    .dataframe tbody tr th {\n",
       "        vertical-align: top;\n",
       "    }\n",
       "\n",
       "    .dataframe thead th {\n",
       "        text-align: right;\n",
       "    }\n",
       "</style>\n",
       "<table border=\"1\" class=\"dataframe\">\n",
       "  <thead>\n",
       "    <tr style=\"text-align: right;\">\n",
       "      <th></th>\n",
       "      <th>Historical Team Name</th>\n",
       "      <th>Current Team Name</th>\n",
       "    </tr>\n",
       "  </thead>\n",
       "  <tbody>\n",
       "    <tr>\n",
       "      <th>0</th>\n",
       "      <td>Chicago Cardinals</td>\n",
       "      <td>Arizona Cardinals</td>\n",
       "    </tr>\n",
       "    <tr>\n",
       "      <th>1</th>\n",
       "      <td>Baltimore Colts</td>\n",
       "      <td>Indianapolis Colts</td>\n",
       "    </tr>\n",
       "  </tbody>\n",
       "</table>\n",
       "</div>"
      ],
      "text/plain": [
       "  Historical Team Name   Current Team Name\n",
       "0    Chicago Cardinals   Arizona Cardinals\n",
       "1      Baltimore Colts  Indianapolis Colts"
      ]
     },
     "execution_count": 19,
     "metadata": {},
     "output_type": "execute_result"
    }
   ],
   "source": [
    "df_previous_team_names = pd.read_csv(\"previous_nfl_team_names.csv\")\n",
    "df_previous_team_names.head(2)"
   ]
  },
  {
   "cell_type": "code",
   "execution_count": 20,
   "id": "9b5e9a94-f077-4673-8204-1bb01449a383",
   "metadata": {},
   "outputs": [],
   "source": [
    "df_team_names_lookup = pd.DataFrame({\"Historical Team Name\": df_teams['team_name'], \"Current Team Name\": df_teams['team_name']})\n",
    "df_team_names_lookup = pd.concat([df_team_names_lookup, df_previous_team_names], ignore_index=True)"
   ]
  },
  {
   "cell_type": "markdown",
   "id": "c4b91049-6d77-4cbe-b706-cac7f82a51ff",
   "metadata": {},
   "source": [
    "#### Turning winner to current name"
   ]
  },
  {
   "cell_type": "code",
   "execution_count": 21,
   "id": "2001264b-5b4f-4e6b-a4a7-619a4e094aac",
   "metadata": {},
   "outputs": [
    {
     "data": {
      "text/html": [
       "<div>\n",
       "<style scoped>\n",
       "    .dataframe tbody tr th:only-of-type {\n",
       "        vertical-align: middle;\n",
       "    }\n",
       "\n",
       "    .dataframe tbody tr th {\n",
       "        vertical-align: top;\n",
       "    }\n",
       "\n",
       "    .dataframe thead th {\n",
       "        text-align: right;\n",
       "    }\n",
       "</style>\n",
       "<table border=\"1\" class=\"dataframe\">\n",
       "  <thead>\n",
       "    <tr style=\"text-align: right;\">\n",
       "      <th></th>\n",
       "      <th>game_date</th>\n",
       "      <th>superbowl_title</th>\n",
       "      <th>winner_points</th>\n",
       "      <th>loser</th>\n",
       "      <th>loser_points</th>\n",
       "      <th>mvp</th>\n",
       "      <th>stadium</th>\n",
       "      <th>winner</th>\n",
       "    </tr>\n",
       "  </thead>\n",
       "  <tbody>\n",
       "    <tr>\n",
       "      <th>0</th>\n",
       "      <td>2023-02-12</td>\n",
       "      <td>LVII (57)</td>\n",
       "      <td>38</td>\n",
       "      <td>Philadelphia Eagles</td>\n",
       "      <td>35</td>\n",
       "      <td>Patrick Mahomes</td>\n",
       "      <td>State Farm Stadium</td>\n",
       "      <td>Kansas City Chiefs</td>\n",
       "    </tr>\n",
       "    <tr>\n",
       "      <th>1</th>\n",
       "      <td>2022-02-13</td>\n",
       "      <td>LVI (56)</td>\n",
       "      <td>23</td>\n",
       "      <td>Cincinnati Bengals</td>\n",
       "      <td>20</td>\n",
       "      <td>Cooper Kupp</td>\n",
       "      <td>SoFi Stadium</td>\n",
       "      <td>Los Angeles Rams</td>\n",
       "    </tr>\n",
       "  </tbody>\n",
       "</table>\n",
       "</div>"
      ],
      "text/plain": [
       "    game_date superbowl_title  winner_points                loser  \\\n",
       "0  2023-02-12       LVII (57)             38  Philadelphia Eagles   \n",
       "1  2022-02-13        LVI (56)             23   Cincinnati Bengals   \n",
       "\n",
       "   loser_points              mvp             stadium              winner  \n",
       "0            35  Patrick Mahomes  State Farm Stadium  Kansas City Chiefs  \n",
       "1            20      Cooper Kupp        SoFi Stadium    Los Angeles Rams  "
      ]
     },
     "execution_count": 21,
     "metadata": {},
     "output_type": "execute_result"
    }
   ],
   "source": [
    "df_superbowls = pd.merge(df_superbowls, df_team_names_lookup, left_on = \"winner\", right_on = \"Historical Team Name\", how = \"left\")\n",
    "drop_cols = ['winner', 'city', 'state', 'Historical Team Name']\n",
    "df_superbowls.drop(drop_cols, axis=1, inplace=True)\n",
    "\n",
    "df_superbowls.rename(columns={\"Current Team Name\": \"winner\"}, inplace=True)\n",
    "\n",
    "df_superbowls.head(2)"
   ]
  },
  {
   "cell_type": "markdown",
   "id": "da531346-98a0-447b-a056-d282812c4579",
   "metadata": {},
   "source": [
    "#### Turning loser to current name"
   ]
  },
  {
   "cell_type": "code",
   "execution_count": 22,
   "id": "a4567bde-0c63-4f16-a926-86104532e281",
   "metadata": {},
   "outputs": [
    {
     "data": {
      "text/html": [
       "<div>\n",
       "<style scoped>\n",
       "    .dataframe tbody tr th:only-of-type {\n",
       "        vertical-align: middle;\n",
       "    }\n",
       "\n",
       "    .dataframe tbody tr th {\n",
       "        vertical-align: top;\n",
       "    }\n",
       "\n",
       "    .dataframe thead th {\n",
       "        text-align: right;\n",
       "    }\n",
       "</style>\n",
       "<table border=\"1\" class=\"dataframe\">\n",
       "  <thead>\n",
       "    <tr style=\"text-align: right;\">\n",
       "      <th></th>\n",
       "      <th>game_date</th>\n",
       "      <th>superbowl_title</th>\n",
       "      <th>winner_points</th>\n",
       "      <th>loser_points</th>\n",
       "      <th>mvp</th>\n",
       "      <th>stadium</th>\n",
       "      <th>winner</th>\n",
       "      <th>loser</th>\n",
       "    </tr>\n",
       "  </thead>\n",
       "  <tbody>\n",
       "    <tr>\n",
       "      <th>0</th>\n",
       "      <td>2023-02-12</td>\n",
       "      <td>LVII (57)</td>\n",
       "      <td>38</td>\n",
       "      <td>35</td>\n",
       "      <td>Patrick Mahomes</td>\n",
       "      <td>State Farm Stadium</td>\n",
       "      <td>Kansas City Chiefs</td>\n",
       "      <td>Philadelphia Eagles</td>\n",
       "    </tr>\n",
       "    <tr>\n",
       "      <th>1</th>\n",
       "      <td>2022-02-13</td>\n",
       "      <td>LVI (56)</td>\n",
       "      <td>23</td>\n",
       "      <td>20</td>\n",
       "      <td>Cooper Kupp</td>\n",
       "      <td>SoFi Stadium</td>\n",
       "      <td>Los Angeles Rams</td>\n",
       "      <td>Cincinnati Bengals</td>\n",
       "    </tr>\n",
       "  </tbody>\n",
       "</table>\n",
       "</div>"
      ],
      "text/plain": [
       "    game_date superbowl_title  winner_points  loser_points              mvp  \\\n",
       "0  2023-02-12       LVII (57)             38            35  Patrick Mahomes   \n",
       "1  2022-02-13        LVI (56)             23            20      Cooper Kupp   \n",
       "\n",
       "              stadium              winner                loser  \n",
       "0  State Farm Stadium  Kansas City Chiefs  Philadelphia Eagles  \n",
       "1        SoFi Stadium    Los Angeles Rams   Cincinnati Bengals  "
      ]
     },
     "execution_count": 22,
     "metadata": {},
     "output_type": "execute_result"
    }
   ],
   "source": [
    "df_superbowls = pd.merge(df_superbowls, df_team_names_lookup, left_on = \"loser\", right_on = \"Historical Team Name\", how = \"left\")\n",
    "drop_cols = ['loser', 'Historical Team Name']\n",
    "df_superbowls.drop(drop_cols, axis=1, inplace=True)\n",
    "\n",
    "df_superbowls.rename(columns={\"Current Team Name\": \"loser\"}, inplace=True)\n",
    "\n",
    "df_superbowls.head(2)"
   ]
  },
  {
   "cell_type": "markdown",
   "id": "4d4a614f-bddf-4ddf-b25c-b6b3080cabc5",
   "metadata": {},
   "source": [
    "## Stadium Lookup"
   ]
  },
  {
   "cell_type": "code",
   "execution_count": 23,
   "id": "b6de4cac-7ea9-469f-a9a3-11b4a16ea803",
   "metadata": {},
   "outputs": [
    {
     "data": {
      "text/html": [
       "<div>\n",
       "<style scoped>\n",
       "    .dataframe tbody tr th:only-of-type {\n",
       "        vertical-align: middle;\n",
       "    }\n",
       "\n",
       "    .dataframe tbody tr th {\n",
       "        vertical-align: top;\n",
       "    }\n",
       "\n",
       "    .dataframe thead th {\n",
       "        text-align: right;\n",
       "    }\n",
       "</style>\n",
       "<table border=\"1\" class=\"dataframe\">\n",
       "  <thead>\n",
       "    <tr style=\"text-align: right;\">\n",
       "      <th></th>\n",
       "      <th>game_date</th>\n",
       "      <th>superbowl_title</th>\n",
       "      <th>winner_points</th>\n",
       "      <th>loser_points</th>\n",
       "      <th>mvp</th>\n",
       "      <th>winner</th>\n",
       "      <th>loser</th>\n",
       "      <th>stadium_key</th>\n",
       "    </tr>\n",
       "  </thead>\n",
       "  <tbody>\n",
       "    <tr>\n",
       "      <th>0</th>\n",
       "      <td>2023-02-12</td>\n",
       "      <td>LVII (57)</td>\n",
       "      <td>38</td>\n",
       "      <td>35</td>\n",
       "      <td>Patrick Mahomes</td>\n",
       "      <td>Kansas City Chiefs</td>\n",
       "      <td>Philadelphia Eagles</td>\n",
       "      <td>0</td>\n",
       "    </tr>\n",
       "    <tr>\n",
       "      <th>1</th>\n",
       "      <td>2022-02-13</td>\n",
       "      <td>LVI (56)</td>\n",
       "      <td>23</td>\n",
       "      <td>20</td>\n",
       "      <td>Cooper Kupp</td>\n",
       "      <td>Los Angeles Rams</td>\n",
       "      <td>Cincinnati Bengals</td>\n",
       "      <td>1</td>\n",
       "    </tr>\n",
       "  </tbody>\n",
       "</table>\n",
       "</div>"
      ],
      "text/plain": [
       "    game_date superbowl_title  winner_points  loser_points              mvp  \\\n",
       "0  2023-02-12       LVII (57)             38            35  Patrick Mahomes   \n",
       "1  2022-02-13        LVI (56)             23            20      Cooper Kupp   \n",
       "\n",
       "               winner                loser  stadium_key  \n",
       "0  Kansas City Chiefs  Philadelphia Eagles            0  \n",
       "1    Los Angeles Rams   Cincinnati Bengals            1  "
      ]
     },
     "execution_count": 23,
     "metadata": {},
     "output_type": "execute_result"
    }
   ],
   "source": [
    "df_superbowls = pd.merge(df_superbowls, df_stadiums_lookup, left_on = \"stadium\", right_on = \"stadium_name\", how = \"left\")\n",
    "drop_cols = ['stadium', 'stadium_name']\n",
    "df_superbowls.drop(drop_cols, axis=1, inplace=True)\n",
    "\n",
    "df_superbowls.head(2)"
   ]
  },
  {
   "cell_type": "markdown",
   "id": "02caaf89-80a8-4402-ab85-1bbe7cadb51a",
   "metadata": {},
   "source": [
    "## Winning and Losing Team Lookup"
   ]
  },
  {
   "cell_type": "code",
   "execution_count": 24,
   "id": "210a43d5-23c3-466f-8dc1-832d399ef417",
   "metadata": {},
   "outputs": [
    {
     "data": {
      "text/html": [
       "<div>\n",
       "<style scoped>\n",
       "    .dataframe tbody tr th:only-of-type {\n",
       "        vertical-align: middle;\n",
       "    }\n",
       "\n",
       "    .dataframe tbody tr th {\n",
       "        vertical-align: top;\n",
       "    }\n",
       "\n",
       "    .dataframe thead th {\n",
       "        text-align: right;\n",
       "    }\n",
       "</style>\n",
       "<table border=\"1\" class=\"dataframe\">\n",
       "  <thead>\n",
       "    <tr style=\"text-align: right;\">\n",
       "      <th></th>\n",
       "      <th>game_date</th>\n",
       "      <th>superbowl_title</th>\n",
       "      <th>winner_points</th>\n",
       "      <th>loser_points</th>\n",
       "      <th>mvp</th>\n",
       "      <th>stadium_key</th>\n",
       "      <th>winning_team_key</th>\n",
       "      <th>losing_team_key</th>\n",
       "    </tr>\n",
       "  </thead>\n",
       "  <tbody>\n",
       "    <tr>\n",
       "      <th>0</th>\n",
       "      <td>2023-02-12</td>\n",
       "      <td>LVII (57)</td>\n",
       "      <td>38</td>\n",
       "      <td>35</td>\n",
       "      <td>Patrick Mahomes</td>\n",
       "      <td>0</td>\n",
       "      <td>15</td>\n",
       "      <td>25</td>\n",
       "    </tr>\n",
       "    <tr>\n",
       "      <th>1</th>\n",
       "      <td>2022-02-13</td>\n",
       "      <td>LVI (56)</td>\n",
       "      <td>23</td>\n",
       "      <td>20</td>\n",
       "      <td>Cooper Kupp</td>\n",
       "      <td>1</td>\n",
       "      <td>18</td>\n",
       "      <td>6</td>\n",
       "    </tr>\n",
       "  </tbody>\n",
       "</table>\n",
       "</div>"
      ],
      "text/plain": [
       "    game_date superbowl_title  winner_points  loser_points              mvp  \\\n",
       "0  2023-02-12       LVII (57)             38            35  Patrick Mahomes   \n",
       "1  2022-02-13        LVI (56)             23            20      Cooper Kupp   \n",
       "\n",
       "   stadium_key  winning_team_key  losing_team_key  \n",
       "0            0                15               25  \n",
       "1            1                18                6  "
      ]
     },
     "execution_count": 24,
     "metadata": {},
     "output_type": "execute_result"
    }
   ],
   "source": [
    "df_teams_lookup = df_teams[['team_key', 'team_name']]\n",
    "\n",
    "df_superbowls = pd.merge(df_superbowls, df_teams_lookup, left_on = \"winner\", right_on = \"team_name\", how = \"left\")\n",
    "df_superbowls = pd.merge(df_superbowls, df_teams_lookup, left_on = \"loser\", right_on = \"team_name\", how = \"left\")\n",
    "\n",
    "drop_cols = ['winner', 'loser', 'team_name_x', 'team_name_y']\n",
    "df_superbowls.drop(drop_cols, axis=1, inplace=True)\n",
    "\n",
    "df_superbowls.rename(columns={\"team_key_x\":\"winning_team_key\", \"team_key_y\":\"losing_team_key\"}, inplace=True)\n",
    "\n",
    "df_superbowls.head(2)"
   ]
  },
  {
   "cell_type": "markdown",
   "id": "aa518773-7265-4a46-a9db-1f58869efaf8",
   "metadata": {},
   "source": [
    "## MVP Lookup"
   ]
  },
  {
   "cell_type": "code",
   "execution_count": 25,
   "id": "cff82521-52c7-4af6-b211-7a0a7a61b78c",
   "metadata": {},
   "outputs": [
    {
     "data": {
      "text/html": [
       "<div>\n",
       "<style scoped>\n",
       "    .dataframe tbody tr th:only-of-type {\n",
       "        vertical-align: middle;\n",
       "    }\n",
       "\n",
       "    .dataframe tbody tr th {\n",
       "        vertical-align: top;\n",
       "    }\n",
       "\n",
       "    .dataframe thead th {\n",
       "        text-align: right;\n",
       "    }\n",
       "</style>\n",
       "<table border=\"1\" class=\"dataframe\">\n",
       "  <thead>\n",
       "    <tr style=\"text-align: right;\">\n",
       "      <th></th>\n",
       "      <th>game_date</th>\n",
       "      <th>superbowl_title</th>\n",
       "      <th>winner_points</th>\n",
       "      <th>loser_points</th>\n",
       "      <th>stadium_key</th>\n",
       "      <th>winning_team_key</th>\n",
       "      <th>losing_team_key</th>\n",
       "      <th>player_key</th>\n",
       "    </tr>\n",
       "  </thead>\n",
       "  <tbody>\n",
       "    <tr>\n",
       "      <th>0</th>\n",
       "      <td>2023-02-12</td>\n",
       "      <td>LVII (57)</td>\n",
       "      <td>38</td>\n",
       "      <td>35</td>\n",
       "      <td>0</td>\n",
       "      <td>15</td>\n",
       "      <td>25</td>\n",
       "      <td>0</td>\n",
       "    </tr>\n",
       "    <tr>\n",
       "      <th>1</th>\n",
       "      <td>2022-02-13</td>\n",
       "      <td>LVI (56)</td>\n",
       "      <td>23</td>\n",
       "      <td>20</td>\n",
       "      <td>1</td>\n",
       "      <td>18</td>\n",
       "      <td>6</td>\n",
       "      <td>1</td>\n",
       "    </tr>\n",
       "  </tbody>\n",
       "</table>\n",
       "</div>"
      ],
      "text/plain": [
       "    game_date superbowl_title  winner_points  loser_points  stadium_key  \\\n",
       "0  2023-02-12       LVII (57)             38            35            0   \n",
       "1  2022-02-13        LVI (56)             23            20            1   \n",
       "\n",
       "   winning_team_key  losing_team_key  player_key  \n",
       "0                15               25           0  \n",
       "1                18                6           1  "
      ]
     },
     "execution_count": 25,
     "metadata": {},
     "output_type": "execute_result"
    }
   ],
   "source": [
    "df_superbowls = pd.merge(df_superbowls, df_players, left_on = \"mvp\", right_on = \"player_name\", how = \"left\")\n",
    "drop_cols = ['mvp', 'player_name']\n",
    "df_superbowls.drop(drop_cols, axis=1, inplace=True)\n",
    "\n",
    "df_superbowls.head(2)"
   ]
  },
  {
   "cell_type": "markdown",
   "id": "4d1eadd1-d29a-4796-9256-703d1d654e32",
   "metadata": {},
   "source": [
    "## Date Lookup"
   ]
  },
  {
   "cell_type": "code",
   "execution_count": 27,
   "id": "1be49bc1-81b1-4794-bc78-8ec245a03404",
   "metadata": {},
   "outputs": [
    {
     "data": {
      "text/html": [
       "<div>\n",
       "<style scoped>\n",
       "    .dataframe tbody tr th:only-of-type {\n",
       "        vertical-align: middle;\n",
       "    }\n",
       "\n",
       "    .dataframe tbody tr th {\n",
       "        vertical-align: top;\n",
       "    }\n",
       "\n",
       "    .dataframe thead th {\n",
       "        text-align: right;\n",
       "    }\n",
       "</style>\n",
       "<table border=\"1\" class=\"dataframe\">\n",
       "  <thead>\n",
       "    <tr style=\"text-align: right;\">\n",
       "      <th></th>\n",
       "      <th>date_key</th>\n",
       "      <th>full_date</th>\n",
       "    </tr>\n",
       "  </thead>\n",
       "  <tbody>\n",
       "    <tr>\n",
       "      <th>0</th>\n",
       "      <td>19670101</td>\n",
       "      <td>1967-01-01</td>\n",
       "    </tr>\n",
       "    <tr>\n",
       "      <th>1</th>\n",
       "      <td>19670102</td>\n",
       "      <td>1967-01-02</td>\n",
       "    </tr>\n",
       "  </tbody>\n",
       "</table>\n",
       "</div>"
      ],
      "text/plain": [
       "   date_key  full_date\n",
       "0  19670101 1967-01-01\n",
       "1  19670102 1967-01-02"
      ]
     },
     "execution_count": 27,
     "metadata": {},
     "output_type": "execute_result"
    }
   ],
   "source": [
    "sql_date = \"SELECT * FROM nfl_dw.dim_date;\"\n",
    "df_date = get_dataframe(user_id, pwd, host_name, src_dbname, text(sql_date)).astype({\"full_date\":'datetime64'})[['date_key', 'full_date']]\n",
    "\n",
    "df_date.head(2)"
   ]
  },
  {
   "cell_type": "markdown",
   "id": "8c1546f1-4778-4111-a28d-298eb322548b",
   "metadata": {},
   "source": [
    "## Adding Weather Data (API Call)"
   ]
  },
  {
   "cell_type": "code",
   "execution_count": 28,
   "id": "b949f373-26e0-4c02-9f33-10a18eb8b105",
   "metadata": {},
   "outputs": [],
   "source": [
    "url = \"https://archive-api.open-meteo.com/v1/archive\"\n",
    "daily_values = {\"temperature_2m_max\", \"temperature_2m_min\", \"precipitation_sum\", \"windspeed_10m_max\"}"
   ]
  },
  {
   "cell_type": "code",
   "execution_count": 29,
   "id": "cbf67d87-e6cd-4d94-b865-518269d9e4fe",
   "metadata": {},
   "outputs": [],
   "source": [
    "weather = []\n",
    "    \n",
    "for index, row in df_superbowls.iterrows():\n",
    "    stadium_key = row[7]\n",
    "    \n",
    "    stadium = df_stadiums.loc[stadium_key]\n",
    "    params = {\"latitude\": stadium.latitude, \"longitude\": stadium.longitude, \"start_date\": df_superbowls['game_date'].iloc[0], \"end_date\": df_superbowls['game_date'].iloc[0], \n",
    "              \"daily\": daily_values, \"timezone\": \"auto\"}\n",
    "    weather_json = get_api_response(url, params)\n",
    "    weather.append({\"temperature_2m_max\": weather_json['daily']['temperature_2m_max'][0],\n",
    "                     \"temperature_2m_min\": weather_json['daily']['temperature_2m_min'][0],\n",
    "                     \"precipitation_sum\": weather_json['daily']['precipitation_sum'][0],\n",
    "                     \"windspeed_10m_max\": weather_json['daily']['windspeed_10m_max'][0]})"
   ]
  },
  {
   "cell_type": "code",
   "execution_count": 30,
   "id": "85617b01-a03c-4d86-b21e-9551784f914f",
   "metadata": {},
   "outputs": [
    {
     "data": {
      "text/html": [
       "<div>\n",
       "<style scoped>\n",
       "    .dataframe tbody tr th:only-of-type {\n",
       "        vertical-align: middle;\n",
       "    }\n",
       "\n",
       "    .dataframe tbody tr th {\n",
       "        vertical-align: top;\n",
       "    }\n",
       "\n",
       "    .dataframe thead th {\n",
       "        text-align: right;\n",
       "    }\n",
       "</style>\n",
       "<table border=\"1\" class=\"dataframe\">\n",
       "  <thead>\n",
       "    <tr style=\"text-align: right;\">\n",
       "      <th></th>\n",
       "      <th>superbowl_title</th>\n",
       "      <th>winner_points</th>\n",
       "      <th>loser_points</th>\n",
       "      <th>stadium_key</th>\n",
       "      <th>winning_team_key</th>\n",
       "      <th>losing_team_key</th>\n",
       "      <th>player_key</th>\n",
       "      <th>date_key</th>\n",
       "    </tr>\n",
       "  </thead>\n",
       "  <tbody>\n",
       "    <tr>\n",
       "      <th>0</th>\n",
       "      <td>LVII (57)</td>\n",
       "      <td>38</td>\n",
       "      <td>35</td>\n",
       "      <td>0</td>\n",
       "      <td>15</td>\n",
       "      <td>25</td>\n",
       "      <td>0</td>\n",
       "      <td>20230212</td>\n",
       "    </tr>\n",
       "    <tr>\n",
       "      <th>1</th>\n",
       "      <td>LVI (56)</td>\n",
       "      <td>23</td>\n",
       "      <td>20</td>\n",
       "      <td>1</td>\n",
       "      <td>18</td>\n",
       "      <td>6</td>\n",
       "      <td>1</td>\n",
       "      <td>20220213</td>\n",
       "    </tr>\n",
       "  </tbody>\n",
       "</table>\n",
       "</div>"
      ],
      "text/plain": [
       "  superbowl_title  winner_points  loser_points  stadium_key  winning_team_key  \\\n",
       "0       LVII (57)             38            35            0                15   \n",
       "1        LVI (56)             23            20            1                18   \n",
       "\n",
       "   losing_team_key  player_key  date_key  \n",
       "0               25           0  20230212  \n",
       "1                6           1  20220213  "
      ]
     },
     "execution_count": 30,
     "metadata": {},
     "output_type": "execute_result"
    }
   ],
   "source": [
    "df_superbowls['game_date'] = pd.to_datetime(df_superbowls['game_date'])\n",
    "df_superbowls = pd.merge(df_superbowls, df_date, left_on = \"game_date\", right_on=\"full_date\")\n",
    "\n",
    "drop_cols = ['game_date', 'full_date']\n",
    "df_superbowls.drop(drop_cols, axis=1, inplace=True)\n",
    "\n",
    "df_superbowls.head(2)"
   ]
  },
  {
   "cell_type": "code",
   "execution_count": 31,
   "id": "36c5ed06-3c13-4d70-961a-a1127594c7d8",
   "metadata": {},
   "outputs": [
    {
     "data": {
      "text/html": [
       "<div>\n",
       "<style scoped>\n",
       "    .dataframe tbody tr th:only-of-type {\n",
       "        vertical-align: middle;\n",
       "    }\n",
       "\n",
       "    .dataframe tbody tr th {\n",
       "        vertical-align: top;\n",
       "    }\n",
       "\n",
       "    .dataframe thead th {\n",
       "        text-align: right;\n",
       "    }\n",
       "</style>\n",
       "<table border=\"1\" class=\"dataframe\">\n",
       "  <thead>\n",
       "    <tr style=\"text-align: right;\">\n",
       "      <th></th>\n",
       "      <th>temperature_2m_max</th>\n",
       "      <th>temperature_2m_min</th>\n",
       "      <th>precipitation_sum</th>\n",
       "      <th>windspeed_10m_max</th>\n",
       "    </tr>\n",
       "  </thead>\n",
       "  <tbody>\n",
       "    <tr>\n",
       "      <th>0</th>\n",
       "      <td>14.3</td>\n",
       "      <td>5.9</td>\n",
       "      <td>0.0</td>\n",
       "      <td>15.4</td>\n",
       "    </tr>\n",
       "    <tr>\n",
       "      <th>1</th>\n",
       "      <td>14.7</td>\n",
       "      <td>5.8</td>\n",
       "      <td>0.0</td>\n",
       "      <td>25.6</td>\n",
       "    </tr>\n",
       "  </tbody>\n",
       "</table>\n",
       "</div>"
      ],
      "text/plain": [
       "   temperature_2m_max  temperature_2m_min  precipitation_sum  \\\n",
       "0                14.3                 5.9                0.0   \n",
       "1                14.7                 5.8                0.0   \n",
       "\n",
       "   windspeed_10m_max  \n",
       "0               15.4  \n",
       "1               25.6  "
      ]
     },
     "execution_count": 31,
     "metadata": {},
     "output_type": "execute_result"
    }
   ],
   "source": [
    "df_weather = pd.DataFrame(weather)\n",
    "df_weather = df_weather.astype(float)\n",
    "df_weather.head(2)"
   ]
  },
  {
   "cell_type": "code",
   "execution_count": 32,
   "id": "3d69ebab-8ed5-4bfe-bd9b-79b2b7f5c96c",
   "metadata": {},
   "outputs": [
    {
     "data": {
      "text/html": [
       "<div>\n",
       "<style scoped>\n",
       "    .dataframe tbody tr th:only-of-type {\n",
       "        vertical-align: middle;\n",
       "    }\n",
       "\n",
       "    .dataframe tbody tr th {\n",
       "        vertical-align: top;\n",
       "    }\n",
       "\n",
       "    .dataframe thead th {\n",
       "        text-align: right;\n",
       "    }\n",
       "</style>\n",
       "<table border=\"1\" class=\"dataframe\">\n",
       "  <thead>\n",
       "    <tr style=\"text-align: right;\">\n",
       "      <th></th>\n",
       "      <th>superbowl_title</th>\n",
       "      <th>winner_points</th>\n",
       "      <th>loser_points</th>\n",
       "      <th>stadium_key</th>\n",
       "      <th>winning_team_key</th>\n",
       "      <th>losing_team_key</th>\n",
       "      <th>player_key</th>\n",
       "      <th>date_key</th>\n",
       "      <th>temperature_2m_max</th>\n",
       "      <th>temperature_2m_min</th>\n",
       "      <th>precipitation_sum</th>\n",
       "      <th>windspeed_10m_max</th>\n",
       "    </tr>\n",
       "  </thead>\n",
       "  <tbody>\n",
       "    <tr>\n",
       "      <th>0</th>\n",
       "      <td>LVII (57)</td>\n",
       "      <td>38</td>\n",
       "      <td>35</td>\n",
       "      <td>0</td>\n",
       "      <td>15</td>\n",
       "      <td>25</td>\n",
       "      <td>0</td>\n",
       "      <td>20230212</td>\n",
       "      <td>14.3</td>\n",
       "      <td>5.9</td>\n",
       "      <td>0.0</td>\n",
       "      <td>15.4</td>\n",
       "    </tr>\n",
       "    <tr>\n",
       "      <th>1</th>\n",
       "      <td>LVI (56)</td>\n",
       "      <td>23</td>\n",
       "      <td>20</td>\n",
       "      <td>1</td>\n",
       "      <td>18</td>\n",
       "      <td>6</td>\n",
       "      <td>1</td>\n",
       "      <td>20220213</td>\n",
       "      <td>14.7</td>\n",
       "      <td>5.8</td>\n",
       "      <td>0.0</td>\n",
       "      <td>25.6</td>\n",
       "    </tr>\n",
       "  </tbody>\n",
       "</table>\n",
       "</div>"
      ],
      "text/plain": [
       "  superbowl_title  winner_points  loser_points  stadium_key  winning_team_key  \\\n",
       "0       LVII (57)             38            35            0                15   \n",
       "1        LVI (56)             23            20            1                18   \n",
       "\n",
       "   losing_team_key  player_key  date_key  temperature_2m_max  \\\n",
       "0               25           0  20230212                14.3   \n",
       "1                6           1  20220213                14.7   \n",
       "\n",
       "   temperature_2m_min  precipitation_sum  windspeed_10m_max  \n",
       "0                 5.9                0.0               15.4  \n",
       "1                 5.8                0.0               25.6  "
      ]
     },
     "execution_count": 32,
     "metadata": {},
     "output_type": "execute_result"
    }
   ],
   "source": [
    "df_superbowls = df_superbowls.join(df_weather)\n",
    "df_superbowls.head(2)"
   ]
  },
  {
   "cell_type": "markdown",
   "id": "b0826ee3-9fcf-4858-b5b9-284cd297e18d",
   "metadata": {},
   "source": [
    "## Primary Key"
   ]
  },
  {
   "cell_type": "code",
   "execution_count": 33,
   "id": "4a9593c6-c9be-46af-9894-3106b1e85e82",
   "metadata": {},
   "outputs": [
    {
     "data": {
      "text/html": [
       "<div>\n",
       "<style scoped>\n",
       "    .dataframe tbody tr th:only-of-type {\n",
       "        vertical-align: middle;\n",
       "    }\n",
       "\n",
       "    .dataframe tbody tr th {\n",
       "        vertical-align: top;\n",
       "    }\n",
       "\n",
       "    .dataframe thead th {\n",
       "        text-align: right;\n",
       "    }\n",
       "</style>\n",
       "<table border=\"1\" class=\"dataframe\">\n",
       "  <thead>\n",
       "    <tr style=\"text-align: right;\">\n",
       "      <th></th>\n",
       "      <th>superbowl_key</th>\n",
       "      <th>superbowl_title</th>\n",
       "      <th>winner_points</th>\n",
       "      <th>loser_points</th>\n",
       "      <th>stadium_key</th>\n",
       "      <th>winning_team_key</th>\n",
       "      <th>losing_team_key</th>\n",
       "      <th>player_key</th>\n",
       "      <th>date_key</th>\n",
       "      <th>temperature_2m_max</th>\n",
       "      <th>temperature_2m_min</th>\n",
       "      <th>precipitation_sum</th>\n",
       "      <th>windspeed_10m_max</th>\n",
       "    </tr>\n",
       "  </thead>\n",
       "  <tbody>\n",
       "    <tr>\n",
       "      <th>0</th>\n",
       "      <td>0</td>\n",
       "      <td>LVII (57)</td>\n",
       "      <td>38</td>\n",
       "      <td>35</td>\n",
       "      <td>0</td>\n",
       "      <td>15</td>\n",
       "      <td>25</td>\n",
       "      <td>0</td>\n",
       "      <td>20230212</td>\n",
       "      <td>14.3</td>\n",
       "      <td>5.9</td>\n",
       "      <td>0.0</td>\n",
       "      <td>15.4</td>\n",
       "    </tr>\n",
       "    <tr>\n",
       "      <th>1</th>\n",
       "      <td>1</td>\n",
       "      <td>LVI (56)</td>\n",
       "      <td>23</td>\n",
       "      <td>20</td>\n",
       "      <td>1</td>\n",
       "      <td>18</td>\n",
       "      <td>6</td>\n",
       "      <td>1</td>\n",
       "      <td>20220213</td>\n",
       "      <td>14.7</td>\n",
       "      <td>5.8</td>\n",
       "      <td>0.0</td>\n",
       "      <td>25.6</td>\n",
       "    </tr>\n",
       "  </tbody>\n",
       "</table>\n",
       "</div>"
      ],
      "text/plain": [
       "   superbowl_key superbowl_title  winner_points  loser_points  stadium_key  \\\n",
       "0              0       LVII (57)             38            35            0   \n",
       "1              1        LVI (56)             23            20            1   \n",
       "\n",
       "   winning_team_key  losing_team_key  player_key  date_key  \\\n",
       "0                15               25           0  20230212   \n",
       "1                18                6           1  20220213   \n",
       "\n",
       "   temperature_2m_max  temperature_2m_min  precipitation_sum  \\\n",
       "0                14.3                 5.9                0.0   \n",
       "1                14.7                 5.8                0.0   \n",
       "\n",
       "   windspeed_10m_max  \n",
       "0               15.4  \n",
       "1               25.6  "
      ]
     },
     "execution_count": 33,
     "metadata": {},
     "output_type": "execute_result"
    }
   ],
   "source": [
    "df_superbowls.insert(0, 'superbowl_key', numpy.arange(df_superbowls.shape[0]))\n",
    "df_superbowls.head(2)"
   ]
  },
  {
   "cell_type": "markdown",
   "id": "de2bb32d-ddbc-4ff8-9eea-5c22c1e9e09f",
   "metadata": {},
   "source": [
    "## Loading Fact Table"
   ]
  },
  {
   "cell_type": "code",
   "execution_count": 34,
   "id": "6a4332f4-d13a-44df-a386-4819da746cf1",
   "metadata": {},
   "outputs": [],
   "source": [
    "set_dataframe(user_id, pwd, host_name, dst_dbname, df_superbowls, 'fact_superbowls', 'superbowl_key', 'insert')"
   ]
  }
 ],
 "metadata": {
  "kernelspec": {
   "display_name": "Python 3 (ipykernel)",
   "language": "python",
   "name": "python3"
  },
  "language_info": {
   "codemirror_mode": {
    "name": "ipython",
    "version": 3
   },
   "file_extension": ".py",
   "mimetype": "text/x-python",
   "name": "python",
   "nbconvert_exporter": "python",
   "pygments_lexer": "ipython3",
   "version": "3.8.16"
  }
 },
 "nbformat": 4,
 "nbformat_minor": 5
}
